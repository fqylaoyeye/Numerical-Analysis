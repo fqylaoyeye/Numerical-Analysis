{
 "cells": [
  {
   "cell_type": "code",
   "execution_count": 26,
   "metadata": {},
   "outputs": [
    {
     "name": "stderr",
     "output_type": "stream",
     "text": [
      "┌ Warning: could not download https://pkg.julialang.org/registries\n",
      "│   exception = Downloads.RequestError(\"https://pkg.julialang.org/registries\", 28, \"Resolving timed out after 30001 milliseconds\", Downloads.Response(nothing, \"https://pkg.julialang.org/registries\", 0, \"\", Pair{String, String}[]))\n",
      "└ @ Pkg.Registry /Users/julia/.julia/scratchspaces/a66863c6-20e8-4ff4-8a62-49f30b1f605e/agent-cache/default-macmini-x64-5.0/build/default-macmini-x64-5-0/julialang/julia-release-1-dot-8/usr/share/julia/stdlib/v1.8/Pkg/src/Registry/Registry.jl:68\n",
      "\u001b[32m\u001b[1m    Updating\u001b[22m\u001b[39m registry at `~/.julia/registries/General.toml`\n",
      "\u001b[32m\u001b[1m   Resolving\u001b[22m\u001b[39m"
     ]
    },
    {
     "name": "stderr",
     "output_type": "stream",
     "text": [
      " package versions...\n"
     ]
    },
    {
     "name": "stderr",
     "output_type": "stream",
     "text": [
      "\u001b[32m\u001b[1m   Installed\u001b[22m\u001b[39m InlineStrings ─── v1.4.0\n",
      "\u001b[32m\u001b[1m   Installed\u001b[22m\u001b[39m WorkerUtilities ─ v1.6.1\n",
      "\u001b[32m\u001b[1m   Installed\u001b[22m\u001b[39m SentinelArrays ── v1.3.18\n",
      "\u001b[32m\u001b[1m   Installed\u001b[22m\u001b[39m WeakRefStrings ── v1.4.2\n",
      "\u001b[32m\u001b[1m   Installed\u001b[22m\u001b[39m PooledArrays ──── v1.4.2\n",
      "\u001b[32m\u001b[1m   Installed\u001b[22m\u001b[39m FilePathsBase ─── v0.9.20\n"
     ]
    },
    {
     "name": "stderr",
     "output_type": "stream",
     "text": [
      "\u001b[32m\u001b[1m   Installed\u001b[22m\u001b[39m CSV ───────────── v0.10.9\n"
     ]
    },
    {
     "name": "stderr",
     "output_type": "stream",
     "text": [
      "\u001b[32m\u001b[1m    Updating\u001b[22m\u001b[39m `~/.julia/environments/v1.8/Project.toml`\n",
      " \u001b[90m [336ed68f] \u001b[39m\u001b[92m+ CSV v0.10.9\u001b[39m\n",
      "\u001b[32m\u001b[1m    Updating\u001b[22m\u001b[39m `~/.julia/environments/v1.8/Manifest.toml`\n"
     ]
    },
    {
     "name": "stderr",
     "output_type": "stream",
     "text": [
      " \u001b[90m [336ed68f] \u001b[39m\u001b[92m+ CSV v0.10.9\u001b[39m\n",
      " \u001b[90m [48062228] \u001b[39m\u001b[92m+ FilePathsBase v0.9.20\u001b[39m\n",
      " \u001b[90m [842dd82b] \u001b[39m\u001b[92m+ InlineStrings v1.4.0\u001b[39m\n",
      " \u001b[90m [2dfb63ee] \u001b[39m\u001b[92m+ PooledArrays v1.4.2\u001b[39m\n",
      " \u001b[90m [91c51154] \u001b[39m\u001b[92m+ SentinelArrays v1.3.18\u001b[39m\n",
      " \u001b[90m [ea10d353] \u001b[39m\u001b[92m+ WeakRefStrings v1.4.2\u001b[39m\n",
      " \u001b[90m [76eceee3] \u001b[39m\u001b[92m+ WorkerUtilities v1.6.1\u001b[39m\n"
     ]
    },
    {
     "name": "stderr",
     "output_type": "stream",
     "text": [
      "\u001b[32m\u001b[1mPrecompiling\u001b[22m\u001b[39m "
     ]
    },
    {
     "name": "stderr",
     "output_type": "stream",
     "text": [
      "project...\n"
     ]
    },
    {
     "name": "stderr",
     "output_type": "stream",
     "text": [
      "\u001b[32m  ✓ \u001b[39m\u001b[90mWorkerUtilities\u001b[39m\n"
     ]
    },
    {
     "name": "stderr",
     "output_type": "stream",
     "text": [
      "\u001b[32m  ✓ \u001b[39m\u001b[90mPooledArrays\u001b[39m\n"
     ]
    },
    {
     "name": "stderr",
     "output_type": "stream",
     "text": [
      "\u001b[32m  ✓ \u001b[39m\u001b[90mSentinelArrays\u001b[39m\n"
     ]
    },
    {
     "name": "stderr",
     "output_type": "stream",
     "text": [
      "\u001b[32m  ✓ \u001b[39m\u001b[90mFilePathsBase\u001b[39m\n"
     ]
    },
    {
     "name": "stderr",
     "output_type": "stream",
     "text": [
      "\u001b[32m  ✓ \u001b[39m\u001b[90mInlineStrings\u001b[39m\n"
     ]
    },
    {
     "name": "stderr",
     "output_type": "stream",
     "text": [
      "\u001b[32m  ✓ \u001b[39m\u001b[90mWeakRefStrings\u001b[39m\n"
     ]
    },
    {
     "name": "stderr",
     "output_type": "stream",
     "text": [
      "\u001b[32m  ✓ \u001b[39mCSV\n",
      "  7 dependencies successfully precompiled in 98 seconds. 176 already precompiled.\n"
     ]
    }
   ],
   "source": [
    "import Pkg; Pkg.add(\"CSV\")"
   ]
  },
  {
   "cell_type": "code",
   "execution_count": 3,
   "metadata": {},
   "outputs": [
    {
     "name": "stderr",
     "output_type": "stream",
     "text": [
      "\u001b[32m\u001b[1m    Updating\u001b[22m\u001b[39m registry at `~/.julia/registries/General.toml`\n"
     ]
    },
    {
     "name": "stderr",
     "output_type": "stream",
     "text": [
      "\u001b[32m\u001b[1m   Resolving\u001b[22m\u001b[39m package versions...\n"
     ]
    },
    {
     "name": "stderr",
     "output_type": "stream",
     "text": [
      "\u001b[32m\u001b[1m   Installed\u001b[22m\u001b[39m InvertedIndices ──── v1.3.0\n"
     ]
    },
    {
     "name": "stderr",
     "output_type": "stream",
     "text": [
      "\u001b[32m\u001b[1m   Installed\u001b[22m\u001b[39m Crayons ──────────── v4.1.1\n"
     ]
    },
    {
     "name": "stderr",
     "output_type": "stream",
     "text": [
      "\u001b[32m\u001b[1m   Installed\u001b[22m\u001b[39m StringManipulation ─ v0.3.0\n"
     ]
    },
    {
     "name": "stderr",
     "output_type": "stream",
     "text": [
      "\u001b[32m\u001b[1m   Installed\u001b[22m\u001b[39m DataFrames ───────── v1.5.0\n"
     ]
    },
    {
     "name": "stderr",
     "output_type": "stream",
     "text": [
      "\u001b[32m\u001b[1m   Installed\u001b[22m\u001b[39m PrettyTables ─────── v2.2.4\n"
     ]
    },
    {
     "name": "stderr",
     "output_type": "stream",
     "text": [
      "\u001b[32m\u001b[1m    Updating\u001b[22m\u001b[39m `~/.julia/environments/v1.8/Project.toml`\n",
      " \u001b[90m [a93c6f00] \u001b[39m\u001b[92m+ DataFrames v1.5.0\u001b[39m\n",
      "\u001b[32m\u001b[1m    Updating\u001b[22m\u001b[39m `~/.julia/environments/v1.8/Manifest.toml`\n"
     ]
    },
    {
     "name": "stderr",
     "output_type": "stream",
     "text": [
      " \u001b[90m [a8cc5b0e] \u001b[39m\u001b[92m+ Crayons v4.1.1\u001b[39m\n",
      " \u001b[90m [a93c6f00] \u001b[39m\u001b[92m+ DataFrames v1.5.0\u001b[39m\n",
      " \u001b[90m [41ab1584] \u001b[39m\u001b[92m+ InvertedIndices v1.3.0\u001b[39m\n",
      " \u001b[90m [08abe8d2] \u001b[39m\u001b[92m+ PrettyTables v2.2.4\u001b[39m\n",
      " \u001b[90m [892a3eda] \u001b[39m\u001b[92m+ StringManipulation v0.3.0\u001b[39m\n"
     ]
    },
    {
     "name": "stderr",
     "output_type": "stream",
     "text": [
      "\u001b[32m\u001b[1mPrecompiling\u001b[22m\u001b[39m "
     ]
    },
    {
     "name": "stderr",
     "output_type": "stream",
     "text": [
      "project...\n"
     ]
    },
    {
     "name": "stderr",
     "output_type": "stream",
     "text": [
      "\u001b[32m  ✓ \u001b[39m\u001b[90mInvertedIndices\u001b[39m\n"
     ]
    },
    {
     "name": "stderr",
     "output_type": "stream",
     "text": [
      "\u001b[32m  ✓ \u001b[39m\u001b[90mCrayons\u001b[39m\n"
     ]
    },
    {
     "name": "stderr",
     "output_type": "stream",
     "text": [
      "\u001b[32m  ✓ \u001b[39m\u001b[90mStringManipulation\u001b[39m\n"
     ]
    },
    {
     "name": "stderr",
     "output_type": "stream",
     "text": [
      "\u001b[32m  ✓ \u001b[39m\u001b[90mPrettyTables\u001b[39m\n"
     ]
    },
    {
     "name": "stderr",
     "output_type": "stream",
     "text": [
      "\u001b[32m  ✓ \u001b[39mDataFrames\n"
     ]
    },
    {
     "name": "stderr",
     "output_type": "stream",
     "text": [
      "  5 dependencies successfully precompiled in 193 seconds. 183 already precompiled.\n"
     ]
    }
   ],
   "source": [
    "import Pkg; Pkg.add(\"DataFrames\")"
   ]
  },
  {
   "cell_type": "code",
   "execution_count": 5,
   "metadata": {},
   "outputs": [
    {
     "name": "stdout",
     "output_type": "stream",
     "text": [
      "Rank 1: Outline of geography - 0.00029697495488331265\n",
      "Rank 2: 103rd United States Congress - 0.00027225298582670066\n",
      "Rank 3: France - 0.0002446745973632674\n",
      "Rank 4: Index of physics articles - 0.00024165089322736956\n",
      "Rank 5: 87th United States Congress - 0.0002385516577487926\n",
      "Rank 6: 2010 United States Census - 0.0002379918783749957\n",
      "Rank 7: 82nd United States Congress - 0.00023656956713882297\n",
      "Rank 8: United Kingdom - 0.00022103737528475397\n",
      "Rank 9: Physics - 0.00021376762048081084\n",
      "Rank 10: List of stadiums by capacity - 0.0002094233799784\n"
     ]
    }
   ],
   "source": [
    " # Credit to Chatgpt and collboration with Mica\n",
    " using CSV\n",
    " using DataFrames\n",
    "\n",
    " nodes=CSV.read(\"names.csv\", DataFrames.DataFrame)\n",
    " edges=CSV.read(\"edges.csv\", DataFrames.DataFrame)\n",
    "\n",
    "nodes=Matrix(nodes)\n",
    "edges=Matrix(edges)\n",
    "\n",
    "\n",
    "\n",
    "# function page_rank(nodes, edges, N)\n",
    "#     A = adjacency_matrix(nodes, edges)\n",
    "#     T = transition_matrix(A)\n",
    "#     n = size(A)[1]\n",
    "#     x = ones(n) / n\n",
    "#     for i in 1:N\n",
    "#         x = T * x\n",
    "#     end\n",
    "#     return x\n",
    "# end\n",
    "\n",
    "# function transition_matrix(A)\n",
    "#     n = size(A)[1]\n",
    "#     T = zeros(n, n)\n",
    "#     for i = 1:n\n",
    "#         s = sum(A[:, i])\n",
    "#         if s == 0\n",
    "#             T[:, i] = ones(n) / n\n",
    "#         else\n",
    "#             T[:, i] = A[:, i] / s\n",
    "#         end\n",
    "#     end\n",
    "#     return T\n",
    "# end\n",
    "\n",
    "# function adjacency_matrix(nodes, edges)\n",
    "#     n = size(nodes, 1)\n",
    "#     A = zeros(n, n)\n",
    "#     for i = 1:size(edges, 1)\n",
    "#         u, v = edges[i, :]\n",
    "#         A[v, u] = 1\n",
    "#     end\n",
    "#     return A\n",
    "# end\n",
    "\n",
    "\n",
    "# # run PageRank\n",
    "# N = 10\n",
    "# x = page_rank(nodes, edges, N)\n",
    "# println(x)\n",
    "\n",
    "\n",
    "\n",
    "\n",
    "using SparseArrays \n",
    "using LinearAlgebra \n",
    "\n",
    "n = size(nodes, 1)\n",
    "\n",
    "# 创建稀疏的邻接矩阵\n",
    "A = sparse(\n",
    "    edges[2:end, 1],   # row indices\n",
    "    edges[2:end, 2],   # column indices\n",
    "    fill(1.0, size(edges, 1)-1),  # edge weights\n",
    "    n,             # number of rows\n",
    "    n              # number of columns\n",
    ")\n",
    "A = A'\n",
    "\n",
    "# 创建转移矩阵T\n",
    "row_sums = vec(sum(A, dims=2))\n",
    "probs = ifelse.(row_sums .== 0, 0.0, 1 ./ row_sums)\n",
    "diag_matrix = spdiagm(0 => probs)\n",
    "T = A' * diag_matrix\n",
    "\n",
    "# 使用幂迭代计算PageRank值\n",
    "function power_iteration(A, T, x)\n",
    "    eps = 1e-15  # 容忍误差\n",
    "    max_iter = 1000  # 最大迭代次数\n",
    "    iter = 0\n",
    "    \n",
    "    while iter < max_iter\n",
    "        x_new = T * x\n",
    "        if norm(A * diag_matrix * x_new - x_new) < eps\n",
    "            break\n",
    "        end\n",
    "        \n",
    "        x = x_new\n",
    "        iter += 1\n",
    "    end\n",
    "    \n",
    "    return x\n",
    "end\n",
    "\n",
    "# 计算页面的PageRank值\n",
    "x = ones(n)/n\n",
    "pagerank = power_iteration(A, T, x)\n",
    "\n",
    "# 按PageRank值对页面进行排序\n",
    "ranks = sortperm(pagerank, rev=true)\n",
    "\n",
    "# 输出前10个页面的名称和PageRank值\n",
    "for i in 1:min(10, n)\n",
    "    page_idx = ranks[i]\n",
    "    page_name = nodes[page_idx, 1]\n",
    "    page_rank = pagerank[page_idx]\n",
    "    println(\"Rank $i: $page_name - $page_rank\")\n",
    "end\n",
    "\n",
    "\n",
    "\n",
    "\n",
    "\n"
   ]
  }
 ],
 "metadata": {
  "kernelspec": {
   "display_name": "Julia 1.8.5",
   "language": "julia",
   "name": "julia-1.8"
  },
  "language_info": {
   "file_extension": ".jl",
   "mimetype": "application/julia",
   "name": "julia",
   "version": "1.8.5"
  },
  "orig_nbformat": 4
 },
 "nbformat": 4,
 "nbformat_minor": 2
}
