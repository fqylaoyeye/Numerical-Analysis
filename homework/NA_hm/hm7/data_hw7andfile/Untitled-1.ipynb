{
 "cells": [
  {
   "cell_type": "code",
   "execution_count": 1,
   "metadata": {},
   "outputs": [
    {
     "ename": "UndefVarError",
     "evalue": "UndefVarError: CSV not defined",
     "output_type": "error",
     "traceback": [
      "UndefVarError: CSV not defined\n",
      "\n",
      "Stacktrace:\n",
      " [1] top-level scope\n",
      "   @ Untitled-1.ipynb:4"
     ]
    }
   ],
   "source": [
    "using SparseArrays \n",
    "\n",
    "# 读取数据\n",
    "nodes = CSV.read(\"names.csv\", DataFrame)\n",
    "edges = CSV.read(\"edges.csv\", DataFrame)\n",
    "\n",
    "# 转换成矩阵\n",
    "nodes = Matrix(nodes)\n",
    "edges = Matrix(edges)\n",
    "\n",
    "# 构建稀疏邻接矩阵\n",
    "n = size(nodes, 1)\n",
    "A = sparse(\n",
    "    edges[2:end, 1],   # row indices\n",
    "    edges[2:end, 2],   # column indices\n",
    "    fill(1.0, size(edges, 1)-1),  # edge weights\n",
    "    n,             # number of rows\n",
    "    n              # number of columns\n",
    ")\n",
    "A = transpose(A)\n",
    "\n",
    "# 构建转移矩阵\n",
    "row_sums = vec(sum(A, dims=1))\n",
    "probs = ifelse.(row_sums .== 0, 0.0, 1 ./ row_sums)\n",
    "diag_matrix = spdiagm(0 => probs)\n",
    "T = A * diag_matrix\n",
    "\n",
    "# Power Method 计算 PageRank\n",
    "function power_iteration(A, T, x)\n",
    "    eps = 1e-15  # tolerance for convergence\n",
    "    max_iter = 1000  # maximum number of iterations\n",
    "    iter = 0\n",
    "    \n",
    "    while iter < max_iter\n",
    "        x_new = T * x\n",
    "        if norm(A * diag_matrix * x_new - x_new, 1) < eps\n",
    "            break\n",
    "        end\n",
    "        \n",
    "        x = x_new\n",
    "        iter += 1\n",
    "    end\n",
    "    \n",
    "    return x\n",
    "end\n",
    "\n",
    "# 计算 PageRank\n",
    "x = ones(n) / n\n",
    "pr = power_iteration(A, T, x)\n",
    "\n",
    "# 输出排名前 10 的页面\n",
    "sorted_pr = sort(pr, rev=true)\n",
    "top10_idx = sorted_pr[1:10]\n",
    "for i in top10_idx\n",
    "    println(nodes[i, 1])\n",
    "end\n"
   ]
  }
 ],
 "metadata": {
  "kernelspec": {
   "display_name": "Julia 1.8.5",
   "language": "julia",
   "name": "julia-1.8"
  },
  "language_info": {
   "file_extension": ".jl",
   "mimetype": "application/julia",
   "name": "julia",
   "version": "1.8.5"
  },
  "orig_nbformat": 4
 },
 "nbformat": 4,
 "nbformat_minor": 2
}
