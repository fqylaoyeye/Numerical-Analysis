{
 "cells": [
  {
   "attachments": {},
   "cell_type": "markdown",
   "metadata": {},
   "source": [
    "Explain why Float32(sqrt(6))^2-6 is not zero in Julia"
   ]
  },
  {
   "attachments": {},
   "cell_type": "markdown",
   "metadata": {},
   "source": [
    "The exact binary representation of \n",
    "$\\sqrt 6$ can be found by"
   ]
  },
  {
   "cell_type": "code",
   "execution_count": 19,
   "metadata": {},
   "outputs": [
    {
     "data": {
      "text/plain": [
       "\"0100000000000011100110001000111000010100000010010010000100101110\""
      ]
     },
     "metadata": {},
     "output_type": "display_data"
    }
   ],
   "source": [
    "bitstring(sqrt(6))"
   ]
  },
  {
   "attachments": {},
   "cell_type": "markdown",
   "metadata": {},
   "source": [
    "$$x=2\\times(\\underbrace{1.00111001100010001110000}_{24\\text{ bits}}101000...)_2$$\n",
    "To determine the member of $F_{32}$ that is nearest x. We have\n",
    "$$x^- =max\\{x:x\\in F_{32}, x \\leq \\sqrt 6\\} = (2)_{10}\\times(\\underbrace{1.00111001100010001110000}_{24\\text{ bits}})_2 $$\n",
    "$$x^+ =max\\{x:x\\in F_{32}, x \\geq \\sqrt 6\\} = (2)_{10}\\times(\\underbrace{1.00111001100010001110001}_{24\\text{ bits}})_2 $$"
   ]
  },
  {
   "attachments": {},
   "cell_type": "markdown",
   "metadata": {},
   "source": [
    "So by calculation we have:\n",
    "$$x-x^- = (2)_{10}\\times 2^{-24}(1.01000...)_2$$\n",
    "$$x^+ -x = (2)_{10}\\times 2^{-23}(1.10100...)_2$$\n",
    "we have $$x-x^- <x^+ -x$$ and thus $$fl(x)=x^+$$\n",
    "The exact binary expansion of $(x^+)^2$ is\n",
    "$$(x^+)^2=(4)_{10}\\times(\\underbrace{1.10000000000000000000000}_{24\\text{ bits}}111010...)_2$$"
   ]
  },
  {
   "attachments": {},
   "cell_type": "markdown",
   "metadata": {},
   "source": [
    "The member of $F_{32}$ nearset this number is \n",
    "$$(4)_{10}\\times(\\underbrace{1.10000000000000000000001}_{24\\text{ bits}})_2=(110.000000000000000000001)_2=6+2^{-21}$$"
   ]
  }
 ],
 "metadata": {
  "kernelspec": {
   "display_name": "Julia 1.8.5",
   "language": "julia",
   "name": "julia-1.8"
  },
  "language_info": {
   "file_extension": ".jl",
   "mimetype": "application/julia",
   "name": "julia",
   "version": "1.8.5"
  },
  "orig_nbformat": 4,
  "vscode": {
   "interpreter": {
    "hash": "31f2aee4e71d21fbe5cf8b01ff0e069b9275f58929596ceb00d14d90e3e16cd6"
   }
  }
 },
 "nbformat": 4,
 "nbformat_minor": 2
}
