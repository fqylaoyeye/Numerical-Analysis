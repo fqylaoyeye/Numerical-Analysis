{
 "cells": [
  {
   "cell_type": "code",
   "execution_count": 12,
   "metadata": {},
   "outputs": [
    {
     "data": {
      "text/plain": [
       "2-element Vector{Float64}:\n",
       " 1.9883213952039869\n",
       " 2.9824820928059803"
      ]
     },
     "metadata": {},
     "output_type": "display_data"
    }
   ],
   "source": [
    "function steepest_descent(A,x,b,ϵ)\n",
    "    ∇f(x)=A*x-b\n",
    " while ∇f(x)'∇f(x)≥ ϵ * b'b\n",
    " x -=∇f(x)'∇f(x)/(∇f(x)'A*∇f(x)) * ∇f(x)\n",
    " end\n",
    "return x\n",
    "end\n",
    "\n",
    "A=[2 1;1 2]\n",
    "sol=[2;3]\n",
    "b=A*sol\n",
    "steepest_descent(A,[0,0],b,10^-3)"
   ]
  }
 ],
 "metadata": {
  "kernelspec": {
   "display_name": "Julia 1.8.5",
   "language": "julia",
   "name": "julia-1.8"
  },
  "language_info": {
   "file_extension": ".jl",
   "mimetype": "application/julia",
   "name": "julia",
   "version": "1.8.5"
  },
  "orig_nbformat": 4
 },
 "nbformat": 4,
 "nbformat_minor": 2
}
