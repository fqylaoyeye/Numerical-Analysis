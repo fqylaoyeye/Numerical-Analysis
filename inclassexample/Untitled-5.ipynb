{
 "cells": [
  {
   "cell_type": "code",
   "execution_count": 1,
   "metadata": {},
   "outputs": [
    {
     "data": {
      "text/plain": [
       "backward_substitution (generic function with 1 method)"
      ]
     },
     "metadata": {},
     "output_type": "display_data"
    }
   ],
   "source": [
    "function backward_substitution(U::Matrix, b::Vector)\n",
    "    n = size(U, 1)\n",
    "    x = similar(b)\n",
    "    x[n] = b[n] / U[n, n]\n",
    "    for i in n-1:-1:1\n",
    "        x[i] = (b[i] - dot(U[i, i+1:n], x[i+1:n])) / U[i, i]\n",
    "    end\n",
    "    return x\n",
    "end"
   ]
  }
 ],
 "metadata": {
  "kernelspec": {
   "display_name": "Julia 1.8.5",
   "language": "julia",
   "name": "julia-1.8"
  },
  "language_info": {
   "file_extension": ".jl",
   "mimetype": "application/julia",
   "name": "julia",
   "version": "1.8.5"
  },
  "orig_nbformat": 4
 },
 "nbformat": 4,
 "nbformat_minor": 2
}
