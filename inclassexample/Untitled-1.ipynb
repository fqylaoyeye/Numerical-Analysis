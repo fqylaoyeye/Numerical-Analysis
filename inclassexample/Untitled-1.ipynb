{
 "cells": [
  {
   "cell_type": "code",
   "execution_count": 7,
   "metadata": {},
   "outputs": [
    {
     "data": {
      "text/plain": [
       "(3.1413696, 1.6423384870127749)"
      ]
     },
     "metadata": {},
     "output_type": "display_data"
    }
   ],
   "source": [
    "using LinearAlgebra\n",
    "using Statistics\n",
    "\n",
    "χ(x)= norm(x) < 1\n",
    "N= 10^7\n",
    "dim= 2\n",
    "X=rand(N,dim)\n",
    "Y=[2^dim * χ(X[i,:]) for i in 1:N]\n",
    "I=sum(Y)/N\n",
    "θ=std(Y)\n",
    "I,θ\n"
   ]
  }
 ],
 "metadata": {
  "kernelspec": {
   "display_name": "Julia 1.8.5",
   "language": "julia",
   "name": "julia-1.8"
  },
  "language_info": {
   "file_extension": ".jl",
   "mimetype": "application/julia",
   "name": "julia",
   "version": "1.8.5"
  },
  "orig_nbformat": 4
 },
 "nbformat": 4,
 "nbformat_minor": 2
}
