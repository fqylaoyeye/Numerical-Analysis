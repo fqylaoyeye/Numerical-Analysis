{
 "cells": [
  {
   "cell_type": "code",
   "execution_count": 1,
   "metadata": {},
   "outputs": [
    {
     "data": {
      "text/plain": [
       "3-element Vector{Float64}:\n",
       " 0.0\n",
       " 0.0\n",
       " 0.0"
      ]
     },
     "metadata": {},
     "output_type": "display_data"
    }
   ],
   "source": [
    "using LinearAlgebra\n",
    "function jacobi(A, b, x, ϵ)\n",
    "    n = length(x)\n",
    "    N = [(i == j) ? 0 : -A[i, j] for i in 1:n, j in 1:n]\n",
    "    while norm(A * x - b) / norm(b) > ϵ\n",
    "        x_prev = copy(x)\n",
    "        for i in 1:n\n",
    "            x[i] = (N[i,:]' * x_prev + b[i]) / A[i, i]\n",
    "        end\n",
    "    end\n",
    "    return x\n",
    "end\n",
    "\n",
    "A = [1 0 1;0 1 0; 0 0 1]\n",
    "b = [2,1,0]\n",
    "x = zeros(3)"
   ]
  }
 ],
 "metadata": {
  "kernelspec": {
   "display_name": "Julia 1.8.5",
   "language": "julia",
   "name": "julia-1.8"
  },
  "language_info": {
   "file_extension": ".jl",
   "mimetype": "application/julia",
   "name": "julia",
   "version": "1.8.5"
  },
  "orig_nbformat": 4
 },
 "nbformat": 4,
 "nbformat_minor": 2
}
