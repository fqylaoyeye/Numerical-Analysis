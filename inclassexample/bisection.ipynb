{
 "cells": [
  {
   "cell_type": "code",
   "execution_count": 30,
   "metadata": {},
   "outputs": [
    {
     "data": {
      "text/plain": [
       "1.6716999113559723"
      ]
     },
     "metadata": {},
     "output_type": "display_data"
    }
   ],
   "source": [
    "function bisection(f, a, b, ϵ = 10^-7)\n",
    "    while b-a ≥ ϵ\n",
    "        x=(a+b)/2\n",
    "         a, b= f(a) * f(x) ≤ 0 ? [a, x] : [x, b]\n",
    "    #    (a,b)= if f(a)*f(x)≤ 0\n",
    "    #     [a,x]\n",
    "    #    else\n",
    "    #     [x,b]\n",
    "    #    end   \n",
    "    end\n",
    "    return (a+b)/2\n",
    "end\n",
    "\n",
    "bisection(x -> x-cos(x),0,1)\n",
    " bisection(x -> x^3-3-x,1,2)\n",
    "        "
   ]
  }
 ],
 "metadata": {
  "kernelspec": {
   "display_name": "Julia 1.8.5",
   "language": "julia",
   "name": "julia-1.8"
  },
  "language_info": {
   "file_extension": ".jl",
   "mimetype": "application/julia",
   "name": "julia",
   "version": "1.8.5"
  },
  "orig_nbformat": 4
 },
 "nbformat": 4,
 "nbformat_minor": 2
}
