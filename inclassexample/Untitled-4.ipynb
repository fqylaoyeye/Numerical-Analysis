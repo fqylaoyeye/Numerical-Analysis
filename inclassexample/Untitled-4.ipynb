{
 "cells": [
  {
   "cell_type": "code",
   "execution_count": 2,
   "metadata": {},
   "outputs": [
    {
     "name": "stderr",
     "output_type": "stream",
     "text": [
      "\u001b[32m\u001b[1m    Updating\u001b[22m\u001b[39m registry at `~/.julia/registries/General.toml`\n"
     ]
    },
    {
     "name": "stderr",
     "output_type": "stream",
     "text": [
      "\u001b[32m\u001b[1m   Resolving\u001b[22m\u001b[39m package versions...\n"
     ]
    },
    {
     "name": "stderr",
     "output_type": "stream",
     "text": [
      "\u001b[32m\u001b[1m  No Changes\u001b[22m\u001b[39m to `~/.julia/environments/v1.8/Project.toml`\n",
      "\u001b[32m\u001b[1m  No Changes\u001b[22m\u001b[39m to `~/.julia/environments/v1.8/Manifest.toml`\n"
     ]
    }
   ],
   "source": [
    "import Pkg; Pkg.add(\"SymPy\")"
   ]
  },
  {
   "cell_type": "code",
   "execution_count": 35,
   "metadata": {},
   "outputs": [
    {
     "data": {
      "text/plain": [
       "hermite (generic function with 1 method)"
      ]
     },
     "metadata": {},
     "output_type": "display_data"
    }
   ],
   "source": [
    "using SymPy\n",
    "@vars x\n",
    "n=2q\n",
    "nodes=[-1+Rational(2*i,n) for i in 0:n]\n",
    "f(x)=exp(-x^2/2)\n",
    "\n",
    "function hermite(nodes,xi)\n",
    "    num=prod(x-n for n in nodes if n !=xi)\n",
    "    den=prod(xi-n for n in nodes if n !=xi)\n",
    "    return num/den\n",
    "    # b=[integrate(hermite(nodes,xi)f(x),(x,-1,1)) for xi in 0:n]\n",
    "    # A=[hermite(nodes,xi) for xi in 0:n, x in nodes]\n",
    "end\n",
    "\n",
    "    # b=[integrate(hermite(nodes,xi)f(x),(x,-1,1)) for xi in 0:n]\n",
    "    # A=[hermite(nodes,xi) for xi in 0:n, x in nodes]\n",
    "# A^-1 * b"
   ]
  },
  {
   "cell_type": "code",
   "execution_count": 49,
   "metadata": {},
   "outputs": [
    {
     "name": "stderr",
     "output_type": "stream",
     "text": [
      "\u001b[32m\u001b[1m   Resolving\u001b[22m\u001b[39m package versions...\n"
     ]
    },
    {
     "name": "stderr",
     "output_type": "stream",
     "text": [
      "\u001b[32m\u001b[1m   Installed\u001b[22m\u001b[39m StaticArraysCore ───── v1.4.0\n",
      "\u001b[32m\u001b[1m   Installed\u001b[22m\u001b[39m CalculusWithJulia ──── v0.1.2\n"
     ]
    },
    {
     "name": "stderr",
     "output_type": "stream",
     "text": [
      "\u001b[32m\u001b[1m   Installed\u001b[22m\u001b[39m DiffRules ──────────── v1.12.2\n",
      "\u001b[32m\u001b[1m   Installed\u001b[22m\u001b[39m DiffResults ────────── v1.1.0\n",
      "\u001b[32m\u001b[1m   Installed\u001b[22m\u001b[39m Roots ──────────────── v2.0.8\n"
     ]
    },
    {
     "name": "stderr",
     "output_type": "stream",
     "text": [
      "\u001b[32m\u001b[1m   Installed\u001b[22m\u001b[39m HCubature ──────────── v1.5.1\n"
     ]
    },
    {
     "name": "stderr",
     "output_type": "stream",
     "text": [
      "\u001b[32m\u001b[1m   Installed\u001b[22m\u001b[39m CommonSubexpressions ─ v0.3.0\n",
      "\u001b[32m\u001b[1m   Installed\u001b[22m\u001b[39m StaticArrays ───────── v1.5.16\n"
     ]
    },
    {
     "name": "stderr",
     "output_type": "stream",
     "text": [
      "\u001b[32m\u001b[1m   Installed\u001b[22m\u001b[39m SplitApplyCombine ──── v1.2.2\n",
      "\u001b[32m\u001b[1m   Installed\u001b[22m\u001b[39m Indexing ───────────── v1.1.1\n",
      "\u001b[32m\u001b[1m   Installed\u001b[22m\u001b[39m Combinatorics ──────── v1.0.2\n",
      "\u001b[32m\u001b[1m   Installed\u001b[22m\u001b[39m Setfield ───────────── v1.1.1\n"
     ]
    },
    {
     "name": "stderr",
     "output_type": "stream",
     "text": [
      "\u001b[32m\u001b[1m   Installed\u001b[22m\u001b[39m IntervalSets ───────── v0.7.4\n",
      "\u001b[32m\u001b[1m   Installed\u001b[22m\u001b[39m ConstructionBase ───── v1.4.1\n",
      "\u001b[32m\u001b[1m   Installed\u001b[22m\u001b[39m Dictionaries ───────── v0.3.25\n"
     ]
    },
    {
     "name": "stderr",
     "output_type": "stream",
     "text": [
      "\u001b[32m\u001b[1m   Installed\u001b[22m\u001b[39m ForwardDiff ────────── v0.10.34\n",
      "\u001b[32m\u001b[1m   Installed\u001b[22m\u001b[39m QuadGK ─────────────── v2.8.1\n"
     ]
    },
    {
     "name": "stderr",
     "output_type": "stream",
     "text": [
      "\u001b[32m\u001b[1m    Updating\u001b[22m\u001b[39m `~/.julia/environments/v1.8/Project.toml`\n",
      " \u001b[90m [a2e0e22d] \u001b[39m\u001b[92m+ CalculusWithJulia v0.1.2\u001b[39m\n",
      "\u001b[32m\u001b[1m    Updating\u001b[22m\u001b[39m `~/.julia/environments/v1.8/Manifest.toml`\n"
     ]
    },
    {
     "name": "stderr",
     "output_type": "stream",
     "text": [
      " \u001b[90m [a2e0e22d] \u001b[39m\u001b[92m+ CalculusWithJulia v0.1.2\u001b[39m\n",
      " \u001b[90m [861a8166] \u001b[39m\u001b[92m+ Combinatorics v1.0.2\u001b[39m\n",
      " \u001b[90m [bbf7d656] \u001b[39m\u001b[92m+ CommonSubexpressions v0.3.0\u001b[39m\n",
      " \u001b[90m [187b0558] \u001b[39m\u001b[92m+ ConstructionBase v1.4.1\u001b[39m\n",
      " \u001b[90m [85a47980] \u001b[39m\u001b[92m+ Dictionaries v0.3.25\u001b[39m\n",
      " \u001b[90m [163ba53b] \u001b[39m\u001b[92m+ DiffResults v1.1.0\u001b[39m\n",
      " \u001b[90m [b552c78f] \u001b[39m\u001b[92m+ DiffRules v1.12.2\u001b[39m\n",
      " \u001b[90m [f6369f11] \u001b[39m\u001b[92m+ ForwardDiff v0.10.34\u001b[39m\n",
      " \u001b[90m [19dc6840] \u001b[39m\u001b[92m+ HCubature v1.5.1\u001b[39m\n",
      " \u001b[90m [313cdc1a] \u001b[39m\u001b[92m+ Indexing v1.1.1\u001b[39m\n",
      " \u001b[90m [8197267c] \u001b[39m\u001b[92m+ IntervalSets v0.7.4\u001b[39m\n",
      " \u001b[90m [1fd47b50] \u001b[39m\u001b[92m+ QuadGK v2.8.1\u001b[39m\n",
      " \u001b[90m [f2b01f46] \u001b[39m\u001b[92m+ Roots v2.0.8\u001b[39m\n",
      " \u001b[90m [efcf1570] \u001b[39m\u001b[92m+ Setfield v1.1.1\u001b[39m\n",
      " \u001b[90m [03a91e81] \u001b[39m\u001b[92m+ SplitApplyCombine v1.2.2\u001b[39m\n",
      " \u001b[90m [90137ffa] \u001b[39m\u001b[92m+ StaticArrays v1.5.16\u001b[39m\n",
      " \u001b[90m [1e83bf80] \u001b[39m\u001b[92m+ StaticArraysCore v1.4.0\u001b[39m\n",
      " \u001b[90m [9fa8497b] \u001b[39m\u001b[92m+ Future\u001b[39m\n"
     ]
    },
    {
     "name": "stderr",
     "output_type": "stream",
     "text": [
      "\u001b[32m\u001b[1mPrecompiling\u001b[22m\u001b[39m "
     ]
    },
    {
     "name": "stderr",
     "output_type": "stream",
     "text": [
      "project...\n"
     ]
    },
    {
     "name": "stderr",
     "output_type": "stream",
     "text": [
      "\u001b[32m  ✓ \u001b[39m\u001b[90mIndexing\u001b[39m\n"
     ]
    },
    {
     "name": "stderr",
     "output_type": "stream",
     "text": [
      "\u001b[32m  ✓ \u001b[39m\u001b[90mStaticArraysCore\u001b[39m\n"
     ]
    },
    {
     "name": "stderr",
     "output_type": "stream",
     "text": [
      "\u001b[32m  ✓ \u001b[39m\u001b[90mConstructionBase\u001b[39m\n",
      "\u001b[32m  ✓ \u001b[39m\u001b[90mIntervalSets\u001b[39m\n"
     ]
    },
    {
     "name": "stderr",
     "output_type": "stream",
     "text": [
      "\u001b[32m  ✓ \u001b[39m\u001b[90mCombinatorics\u001b[39m\n"
     ]
    },
    {
     "name": "stderr",
     "output_type": "stream",
     "text": [
      "\u001b[32m  ✓ \u001b[39m\u001b[90mCommonSubexpressions\u001b[39m\n"
     ]
    },
    {
     "name": "stderr",
     "output_type": "stream",
     "text": [
      "\u001b[32m  ✓ \u001b[39m\u001b[90mDiffRules\u001b[39m\n"
     ]
    },
    {
     "name": "stderr",
     "output_type": "stream",
     "text": [
      "\u001b[32m  ✓ \u001b[39m\u001b[90mDiffResults\u001b[39m\n"
     ]
    },
    {
     "name": "stderr",
     "output_type": "stream",
     "text": [
      "\u001b[32m  ✓ \u001b[39m\u001b[90mQuadGK\u001b[39m\n"
     ]
    },
    {
     "name": "stderr",
     "output_type": "stream",
     "text": [
      "\u001b[32m  ✓ \u001b[39m\u001b[90mDictionaries\u001b[39m\n"
     ]
    },
    {
     "name": "stderr",
     "output_type": "stream",
     "text": [
      "\u001b[32m  ✓ \u001b[39m\u001b[90mSetfield\u001b[39m\n"
     ]
    },
    {
     "name": "stderr",
     "output_type": "stream",
     "text": [
      "\u001b[32m  ✓ \u001b[39m\u001b[90mSplitApplyCombine\u001b[39m\n"
     ]
    },
    {
     "name": "stderr",
     "output_type": "stream",
     "text": [
      "\u001b[32m  ✓ \u001b[39m\u001b[90mRoots\u001b[39m\n"
     ]
    },
    {
     "name": "stderr",
     "output_type": "stream",
     "text": [
      "\u001b[32m  ✓ \u001b[39m\u001b[90mStaticArrays\u001b[39m\n"
     ]
    },
    {
     "name": "stderr",
     "output_type": "stream",
     "text": [
      "\u001b[32m  ✓ \u001b[39m\u001b[90mHCubature\u001b[39m\n"
     ]
    },
    {
     "name": "stderr",
     "output_type": "stream",
     "text": [
      "\u001b[32m  ✓ \u001b[39m\u001b[90mForwardDiff\u001b[39m\n"
     ]
    },
    {
     "name": "stderr",
     "output_type": "stream",
     "text": [
      "\u001b[32m  ✓ \u001b[39mCalculusWithJulia\n"
     ]
    },
    {
     "name": "stderr",
     "output_type": "stream",
     "text": [
      "  17 dependencies successfully precompiled in 71 seconds. 141 already precompiled.\n"
     ]
    }
   ],
   "source": [
    "import Pkg; Pkg.add(\"CalculusWithJulia\")"
   ]
  },
  {
   "cell_type": "code",
   "execution_count": 92,
   "metadata": {},
   "outputs": [
    {
     "data": {
      "text/latex": [
       "$0$"
      ],
      "text/plain": [
       "0"
      ]
     },
     "metadata": {},
     "output_type": "display_data"
    }
   ],
   "source": [
    "using SymPy\n",
    "using CalculusWithJulia\n",
    "@vars x\n",
    "# n=2\n",
    "w0= Symbol(\"w0\")\n",
    "w1= Symbol(\"w1\")\n",
    "x0= Symbol(\"x0\")\n",
    "x1= Symbol(\"x1\")\n",
    "\n",
    "f(x)=exp(-x^2/2)\n",
    "integrate(x^3*f(x),(x,-Inf, Inf))\n",
    "# w0+w1=integrate(f(x),(x,-Inf, Inf))\n",
    "# w0x0+w1x1=integrate(x*f(x),(x,-Inf, Inf))\n",
    "# w0x0x0+w1x1x1=integrate(x^2*f(x),(x,-Inf, Inf))\n",
    "# w0x0x0x0+w1x1x1x1=integrate(x^3*f(x),(x,-Inf, Inf))\n",
    "\n",
    "\n",
    "\n",
    "\n"
   ]
  }
 ],
 "metadata": {
  "kernelspec": {
   "display_name": "Julia 1.8.5",
   "language": "julia",
   "name": "julia-1.8"
  },
  "language_info": {
   "file_extension": ".jl",
   "mimetype": "application/julia",
   "name": "julia",
   "version": "1.8.5"
  },
  "orig_nbformat": 4
 },
 "nbformat": 4,
 "nbformat_minor": 2
}
