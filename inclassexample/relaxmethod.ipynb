{
 "cells": [
  {
   "cell_type": "code",
   "execution_count": 12,
   "metadata": {},
   "outputs": [
    {
     "data": {
      "text/plain": [
       "try_to_relax (generic function with 1 method)"
      ]
     },
     "metadata": {},
     "output_type": "display_data"
    }
   ],
   "source": [
    "function try_to_relax(A,b,x,ϵ,ω)\n",
    "    n=length(x)\n",
    "    N=[(i==j) ? 0 : -A[i,j] for i in 1:n, j in 1:n]\n",
    "    while norm(A * x - b) / norm(b) > ϵ\n",
    "        for i in 1:N\n",
    "            x[i] = (N[i,:]' * x + b[i]) / A[i,i]\n",
    "        end\n",
    "    end\n",
    "    return x\n",
    "end"
   ]
  },
  {
   "cell_type": "markdown",
   "metadata": {},
   "source": []
  }
 ],
 "metadata": {
  "kernelspec": {
   "display_name": "Julia 1.8.5",
   "language": "julia",
   "name": "julia-1.8"
  },
  "language_info": {
   "file_extension": ".jl",
   "mimetype": "application/julia",
   "name": "julia",
   "version": "1.8.5"
  },
  "orig_nbformat": 4
 },
 "nbformat": 4,
 "nbformat_minor": 2
}
