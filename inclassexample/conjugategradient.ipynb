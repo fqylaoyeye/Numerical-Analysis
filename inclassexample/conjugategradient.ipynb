{
 "cells": [
  {
   "cell_type": "code",
   "execution_count": 8,
   "metadata": {},
   "outputs": [
    {
     "data": {
      "text/plain": [
       "2-element Vector{Float64}:\n",
       " 2.0\n",
       " 3.0"
      ]
     },
     "metadata": {},
     "output_type": "display_data"
    }
   ],
   "source": [
    "function conjugate_gradients(A,x,b,ϵ)\n",
    "∇f(x)=A*x-b\n",
    "let d=∇f(x)\n",
    "    while ∇f(x)'∇f(x)>=ϵ*b'b\n",
    "        x-=∇f(x)'d/(d'A*d)*d\n",
    "        d=∇f(x)-∇f(x)'A*d/(d'A*d)*d\n",
    "    end\n",
    "end\n",
    "return x\n",
    "end\n",
    "\n",
    "A=[2 1;1 2]\n",
    "sol=[2;3]\n",
    "b=A*sol\n",
    "conjugate_gradients(A,[0,0],b,10^-3)\n"
   ]
  }
 ],
 "metadata": {
  "kernelspec": {
   "display_name": "Julia 1.8.5",
   "language": "julia",
   "name": "julia-1.8"
  },
  "language_info": {
   "file_extension": ".jl",
   "mimetype": "application/julia",
   "name": "julia",
   "version": "1.8.5"
  },
  "orig_nbformat": 4
 },
 "nbformat": 4,
 "nbformat_minor": 2
}
